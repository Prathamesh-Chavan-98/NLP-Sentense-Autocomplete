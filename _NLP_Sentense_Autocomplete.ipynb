{
  "nbformat": 4,
  "nbformat_minor": 0,
  "metadata": {
    "colab": {
      "provenance": [],
      "gpuType": "T4",
      "authorship_tag": "ABX9TyPCqiYjT5SieFUVV5hdtcIt",
      "include_colab_link": true
    },
    "kernelspec": {
      "name": "python3",
      "display_name": "Python 3"
    },
    "language_info": {
      "name": "python"
    },
    "accelerator": "GPU"
  },
  "cells": [
    {
      "cell_type": "markdown",
      "metadata": {
        "id": "view-in-github",
        "colab_type": "text"
      },
      "source": [
        "<a href=\"https://colab.research.google.com/github/Prathamesh-Chavan-98/NLP-Sentense-Autocomplete/blob/main/_NLP_Sentense_Autocomplete.ipynb\" target=\"_parent\"><img src=\"https://colab.research.google.com/assets/colab-badge.svg\" alt=\"Open In Colab\"/></a>"
      ]
    },
    {
      "cell_type": "code",
      "execution_count": 1,
      "metadata": {
        "colab": {
          "base_uri": "https://localhost:8080/"
        },
        "id": "WtmdYsx8u0V2",
        "outputId": "a3259505-7936-447d-a68c-af8573e7652e"
      },
      "outputs": [
        {
          "output_type": "stream",
          "name": "stdout",
          "text": [
            "Collecting opendatasets\n",
            "  Downloading opendatasets-0.1.22-py3-none-any.whl (15 kB)\n",
            "Requirement already satisfied: tqdm in /usr/local/lib/python3.10/dist-packages (from opendatasets) (4.66.4)\n",
            "Requirement already satisfied: kaggle in /usr/local/lib/python3.10/dist-packages (from opendatasets) (1.6.14)\n",
            "Requirement already satisfied: click in /usr/local/lib/python3.10/dist-packages (from opendatasets) (8.1.7)\n",
            "Requirement already satisfied: six>=1.10 in /usr/local/lib/python3.10/dist-packages (from kaggle->opendatasets) (1.16.0)\n",
            "Requirement already satisfied: certifi>=2023.7.22 in /usr/local/lib/python3.10/dist-packages (from kaggle->opendatasets) (2024.7.4)\n",
            "Requirement already satisfied: python-dateutil in /usr/local/lib/python3.10/dist-packages (from kaggle->opendatasets) (2.8.2)\n",
            "Requirement already satisfied: requests in /usr/local/lib/python3.10/dist-packages (from kaggle->opendatasets) (2.31.0)\n",
            "Requirement already satisfied: python-slugify in /usr/local/lib/python3.10/dist-packages (from kaggle->opendatasets) (8.0.4)\n",
            "Requirement already satisfied: urllib3 in /usr/local/lib/python3.10/dist-packages (from kaggle->opendatasets) (2.0.7)\n",
            "Requirement already satisfied: bleach in /usr/local/lib/python3.10/dist-packages (from kaggle->opendatasets) (6.1.0)\n",
            "Requirement already satisfied: webencodings in /usr/local/lib/python3.10/dist-packages (from bleach->kaggle->opendatasets) (0.5.1)\n",
            "Requirement already satisfied: text-unidecode>=1.3 in /usr/local/lib/python3.10/dist-packages (from python-slugify->kaggle->opendatasets) (1.3)\n",
            "Requirement already satisfied: charset-normalizer<4,>=2 in /usr/local/lib/python3.10/dist-packages (from requests->kaggle->opendatasets) (3.3.2)\n",
            "Requirement already satisfied: idna<4,>=2.5 in /usr/local/lib/python3.10/dist-packages (from requests->kaggle->opendatasets) (3.7)\n",
            "Installing collected packages: opendatasets\n",
            "Successfully installed opendatasets-0.1.22\n"
          ]
        }
      ],
      "source": [
        "!pip install opendatasets\n",
        "import opendatasets as od"
      ]
    },
    {
      "cell_type": "code",
      "source": [
        "od.download(\"https://www.kaggle.com/datasets/kingburrito666/shakespeare-plays\")"
      ],
      "metadata": {
        "colab": {
          "base_uri": "https://localhost:8080/"
        },
        "id": "zhcqS5syu8tG",
        "outputId": "80386fa2-f719-43ea-89eb-9b46bba65e65"
      },
      "execution_count": 2,
      "outputs": [
        {
          "output_type": "stream",
          "name": "stdout",
          "text": [
            "Dataset URL: https://www.kaggle.com/datasets/kingburrito666/shakespeare-plays\n",
            "Downloading shakespeare-plays.zip to ./shakespeare-plays\n"
          ]
        },
        {
          "output_type": "stream",
          "name": "stderr",
          "text": [
            "100%|██████████| 4.55M/4.55M [00:00<00:00, 61.2MB/s]"
          ]
        },
        {
          "output_type": "stream",
          "name": "stdout",
          "text": [
            "\n"
          ]
        },
        {
          "output_type": "stream",
          "name": "stderr",
          "text": [
            "\n"
          ]
        }
      ]
    },
    {
      "cell_type": "code",
      "source": [
        "import pandas as pd\n",
        "import numpy as np\n",
        "import matplotlib.pyplot as plt\n",
        "import seaborn as sns\n",
        "import os\n",
        "import warnings\n",
        "warnings.filterwarnings('ignore')\n",
        "import tensorflow as tf\n",
        "from tensorflow.keras.preprocessing.text import Tokenizer\n",
        "from tensorflow.keras.preprocessing.sequence import pad_sequences\n",
        "from tensorflow.keras.models import Sequential\n",
        "from tensorflow.keras.layers import Dropout , Embedding, LSTM, Dense\n",
        "from tensorflow.keras.utils import to_categorical\n",
        "from tensorflow.keras.optimizers import Adam\n",
        "from tensorflow.keras.utils import to_categorical\n",
        "import pickle\n",
        "import warnings\n",
        "warnings.filterwarnings('ignore')"
      ],
      "metadata": {
        "id": "Tc7VBk9lu8vQ"
      },
      "execution_count": 3,
      "outputs": []
    },
    {
      "cell_type": "code",
      "source": [
        "data = pd.read_csv('/content/shakespeare-plays/Shakespeare_data.csv')"
      ],
      "metadata": {
        "id": "WnaSVUBdu8xG"
      },
      "execution_count": 4,
      "outputs": []
    },
    {
      "cell_type": "code",
      "source": [
        "df = data.copy()"
      ],
      "metadata": {
        "id": "5TJQFU0Au8yq"
      },
      "execution_count": 5,
      "outputs": []
    },
    {
      "cell_type": "code",
      "source": [
        "df.head()"
      ],
      "metadata": {
        "colab": {
          "base_uri": "https://localhost:8080/",
          "height": 206
        },
        "id": "B7EJebqeu808",
        "outputId": "cb34b699-7625-490a-f2d6-074a77203422"
      },
      "execution_count": 6,
      "outputs": [
        {
          "output_type": "execute_result",
          "data": {
            "text/plain": [
              "   Dataline      Play  PlayerLinenumber ActSceneLine         Player  \\\n",
              "0         1  Henry IV               NaN          NaN            NaN   \n",
              "1         2  Henry IV               NaN          NaN            NaN   \n",
              "2         3  Henry IV               NaN          NaN            NaN   \n",
              "3         4  Henry IV               1.0        1.1.1  KING HENRY IV   \n",
              "4         5  Henry IV               1.0        1.1.2  KING HENRY IV   \n",
              "\n",
              "                                          PlayerLine  \n",
              "0                                              ACT I  \n",
              "1                       SCENE I. London. The palace.  \n",
              "2  Enter KING HENRY, LORD JOHN OF LANCASTER, the ...  \n",
              "3             So shaken as we are, so wan with care,  \n",
              "4         Find we a time for frighted peace to pant,  "
            ],
            "text/html": [
              "\n",
              "  <div id=\"df-5cd58916-91d6-482b-8c64-b98afb854468\" class=\"colab-df-container\">\n",
              "    <div>\n",
              "<style scoped>\n",
              "    .dataframe tbody tr th:only-of-type {\n",
              "        vertical-align: middle;\n",
              "    }\n",
              "\n",
              "    .dataframe tbody tr th {\n",
              "        vertical-align: top;\n",
              "    }\n",
              "\n",
              "    .dataframe thead th {\n",
              "        text-align: right;\n",
              "    }\n",
              "</style>\n",
              "<table border=\"1\" class=\"dataframe\">\n",
              "  <thead>\n",
              "    <tr style=\"text-align: right;\">\n",
              "      <th></th>\n",
              "      <th>Dataline</th>\n",
              "      <th>Play</th>\n",
              "      <th>PlayerLinenumber</th>\n",
              "      <th>ActSceneLine</th>\n",
              "      <th>Player</th>\n",
              "      <th>PlayerLine</th>\n",
              "    </tr>\n",
              "  </thead>\n",
              "  <tbody>\n",
              "    <tr>\n",
              "      <th>0</th>\n",
              "      <td>1</td>\n",
              "      <td>Henry IV</td>\n",
              "      <td>NaN</td>\n",
              "      <td>NaN</td>\n",
              "      <td>NaN</td>\n",
              "      <td>ACT I</td>\n",
              "    </tr>\n",
              "    <tr>\n",
              "      <th>1</th>\n",
              "      <td>2</td>\n",
              "      <td>Henry IV</td>\n",
              "      <td>NaN</td>\n",
              "      <td>NaN</td>\n",
              "      <td>NaN</td>\n",
              "      <td>SCENE I. London. The palace.</td>\n",
              "    </tr>\n",
              "    <tr>\n",
              "      <th>2</th>\n",
              "      <td>3</td>\n",
              "      <td>Henry IV</td>\n",
              "      <td>NaN</td>\n",
              "      <td>NaN</td>\n",
              "      <td>NaN</td>\n",
              "      <td>Enter KING HENRY, LORD JOHN OF LANCASTER, the ...</td>\n",
              "    </tr>\n",
              "    <tr>\n",
              "      <th>3</th>\n",
              "      <td>4</td>\n",
              "      <td>Henry IV</td>\n",
              "      <td>1.0</td>\n",
              "      <td>1.1.1</td>\n",
              "      <td>KING HENRY IV</td>\n",
              "      <td>So shaken as we are, so wan with care,</td>\n",
              "    </tr>\n",
              "    <tr>\n",
              "      <th>4</th>\n",
              "      <td>5</td>\n",
              "      <td>Henry IV</td>\n",
              "      <td>1.0</td>\n",
              "      <td>1.1.2</td>\n",
              "      <td>KING HENRY IV</td>\n",
              "      <td>Find we a time for frighted peace to pant,</td>\n",
              "    </tr>\n",
              "  </tbody>\n",
              "</table>\n",
              "</div>\n",
              "    <div class=\"colab-df-buttons\">\n",
              "\n",
              "  <div class=\"colab-df-container\">\n",
              "    <button class=\"colab-df-convert\" onclick=\"convertToInteractive('df-5cd58916-91d6-482b-8c64-b98afb854468')\"\n",
              "            title=\"Convert this dataframe to an interactive table.\"\n",
              "            style=\"display:none;\">\n",
              "\n",
              "  <svg xmlns=\"http://www.w3.org/2000/svg\" height=\"24px\" viewBox=\"0 -960 960 960\">\n",
              "    <path d=\"M120-120v-720h720v720H120Zm60-500h600v-160H180v160Zm220 220h160v-160H400v160Zm0 220h160v-160H400v160ZM180-400h160v-160H180v160Zm440 0h160v-160H620v160ZM180-180h160v-160H180v160Zm440 0h160v-160H620v160Z\"/>\n",
              "  </svg>\n",
              "    </button>\n",
              "\n",
              "  <style>\n",
              "    .colab-df-container {\n",
              "      display:flex;\n",
              "      gap: 12px;\n",
              "    }\n",
              "\n",
              "    .colab-df-convert {\n",
              "      background-color: #E8F0FE;\n",
              "      border: none;\n",
              "      border-radius: 50%;\n",
              "      cursor: pointer;\n",
              "      display: none;\n",
              "      fill: #1967D2;\n",
              "      height: 32px;\n",
              "      padding: 0 0 0 0;\n",
              "      width: 32px;\n",
              "    }\n",
              "\n",
              "    .colab-df-convert:hover {\n",
              "      background-color: #E2EBFA;\n",
              "      box-shadow: 0px 1px 2px rgba(60, 64, 67, 0.3), 0px 1px 3px 1px rgba(60, 64, 67, 0.15);\n",
              "      fill: #174EA6;\n",
              "    }\n",
              "\n",
              "    .colab-df-buttons div {\n",
              "      margin-bottom: 4px;\n",
              "    }\n",
              "\n",
              "    [theme=dark] .colab-df-convert {\n",
              "      background-color: #3B4455;\n",
              "      fill: #D2E3FC;\n",
              "    }\n",
              "\n",
              "    [theme=dark] .colab-df-convert:hover {\n",
              "      background-color: #434B5C;\n",
              "      box-shadow: 0px 1px 3px 1px rgba(0, 0, 0, 0.15);\n",
              "      filter: drop-shadow(0px 1px 2px rgba(0, 0, 0, 0.3));\n",
              "      fill: #FFFFFF;\n",
              "    }\n",
              "  </style>\n",
              "\n",
              "    <script>\n",
              "      const buttonEl =\n",
              "        document.querySelector('#df-5cd58916-91d6-482b-8c64-b98afb854468 button.colab-df-convert');\n",
              "      buttonEl.style.display =\n",
              "        google.colab.kernel.accessAllowed ? 'block' : 'none';\n",
              "\n",
              "      async function convertToInteractive(key) {\n",
              "        const element = document.querySelector('#df-5cd58916-91d6-482b-8c64-b98afb854468');\n",
              "        const dataTable =\n",
              "          await google.colab.kernel.invokeFunction('convertToInteractive',\n",
              "                                                    [key], {});\n",
              "        if (!dataTable) return;\n",
              "\n",
              "        const docLinkHtml = 'Like what you see? Visit the ' +\n",
              "          '<a target=\"_blank\" href=https://colab.research.google.com/notebooks/data_table.ipynb>data table notebook</a>'\n",
              "          + ' to learn more about interactive tables.';\n",
              "        element.innerHTML = '';\n",
              "        dataTable['output_type'] = 'display_data';\n",
              "        await google.colab.output.renderOutput(dataTable, element);\n",
              "        const docLink = document.createElement('div');\n",
              "        docLink.innerHTML = docLinkHtml;\n",
              "        element.appendChild(docLink);\n",
              "      }\n",
              "    </script>\n",
              "  </div>\n",
              "\n",
              "\n",
              "<div id=\"df-c67390d7-06c8-4d35-bd32-547081b4f6ca\">\n",
              "  <button class=\"colab-df-quickchart\" onclick=\"quickchart('df-c67390d7-06c8-4d35-bd32-547081b4f6ca')\"\n",
              "            title=\"Suggest charts\"\n",
              "            style=\"display:none;\">\n",
              "\n",
              "<svg xmlns=\"http://www.w3.org/2000/svg\" height=\"24px\"viewBox=\"0 0 24 24\"\n",
              "     width=\"24px\">\n",
              "    <g>\n",
              "        <path d=\"M19 3H5c-1.1 0-2 .9-2 2v14c0 1.1.9 2 2 2h14c1.1 0 2-.9 2-2V5c0-1.1-.9-2-2-2zM9 17H7v-7h2v7zm4 0h-2V7h2v10zm4 0h-2v-4h2v4z\"/>\n",
              "    </g>\n",
              "</svg>\n",
              "  </button>\n",
              "\n",
              "<style>\n",
              "  .colab-df-quickchart {\n",
              "      --bg-color: #E8F0FE;\n",
              "      --fill-color: #1967D2;\n",
              "      --hover-bg-color: #E2EBFA;\n",
              "      --hover-fill-color: #174EA6;\n",
              "      --disabled-fill-color: #AAA;\n",
              "      --disabled-bg-color: #DDD;\n",
              "  }\n",
              "\n",
              "  [theme=dark] .colab-df-quickchart {\n",
              "      --bg-color: #3B4455;\n",
              "      --fill-color: #D2E3FC;\n",
              "      --hover-bg-color: #434B5C;\n",
              "      --hover-fill-color: #FFFFFF;\n",
              "      --disabled-bg-color: #3B4455;\n",
              "      --disabled-fill-color: #666;\n",
              "  }\n",
              "\n",
              "  .colab-df-quickchart {\n",
              "    background-color: var(--bg-color);\n",
              "    border: none;\n",
              "    border-radius: 50%;\n",
              "    cursor: pointer;\n",
              "    display: none;\n",
              "    fill: var(--fill-color);\n",
              "    height: 32px;\n",
              "    padding: 0;\n",
              "    width: 32px;\n",
              "  }\n",
              "\n",
              "  .colab-df-quickchart:hover {\n",
              "    background-color: var(--hover-bg-color);\n",
              "    box-shadow: 0 1px 2px rgba(60, 64, 67, 0.3), 0 1px 3px 1px rgba(60, 64, 67, 0.15);\n",
              "    fill: var(--button-hover-fill-color);\n",
              "  }\n",
              "\n",
              "  .colab-df-quickchart-complete:disabled,\n",
              "  .colab-df-quickchart-complete:disabled:hover {\n",
              "    background-color: var(--disabled-bg-color);\n",
              "    fill: var(--disabled-fill-color);\n",
              "    box-shadow: none;\n",
              "  }\n",
              "\n",
              "  .colab-df-spinner {\n",
              "    border: 2px solid var(--fill-color);\n",
              "    border-color: transparent;\n",
              "    border-bottom-color: var(--fill-color);\n",
              "    animation:\n",
              "      spin 1s steps(1) infinite;\n",
              "  }\n",
              "\n",
              "  @keyframes spin {\n",
              "    0% {\n",
              "      border-color: transparent;\n",
              "      border-bottom-color: var(--fill-color);\n",
              "      border-left-color: var(--fill-color);\n",
              "    }\n",
              "    20% {\n",
              "      border-color: transparent;\n",
              "      border-left-color: var(--fill-color);\n",
              "      border-top-color: var(--fill-color);\n",
              "    }\n",
              "    30% {\n",
              "      border-color: transparent;\n",
              "      border-left-color: var(--fill-color);\n",
              "      border-top-color: var(--fill-color);\n",
              "      border-right-color: var(--fill-color);\n",
              "    }\n",
              "    40% {\n",
              "      border-color: transparent;\n",
              "      border-right-color: var(--fill-color);\n",
              "      border-top-color: var(--fill-color);\n",
              "    }\n",
              "    60% {\n",
              "      border-color: transparent;\n",
              "      border-right-color: var(--fill-color);\n",
              "    }\n",
              "    80% {\n",
              "      border-color: transparent;\n",
              "      border-right-color: var(--fill-color);\n",
              "      border-bottom-color: var(--fill-color);\n",
              "    }\n",
              "    90% {\n",
              "      border-color: transparent;\n",
              "      border-bottom-color: var(--fill-color);\n",
              "    }\n",
              "  }\n",
              "</style>\n",
              "\n",
              "  <script>\n",
              "    async function quickchart(key) {\n",
              "      const quickchartButtonEl =\n",
              "        document.querySelector('#' + key + ' button');\n",
              "      quickchartButtonEl.disabled = true;  // To prevent multiple clicks.\n",
              "      quickchartButtonEl.classList.add('colab-df-spinner');\n",
              "      try {\n",
              "        const charts = await google.colab.kernel.invokeFunction(\n",
              "            'suggestCharts', [key], {});\n",
              "      } catch (error) {\n",
              "        console.error('Error during call to suggestCharts:', error);\n",
              "      }\n",
              "      quickchartButtonEl.classList.remove('colab-df-spinner');\n",
              "      quickchartButtonEl.classList.add('colab-df-quickchart-complete');\n",
              "    }\n",
              "    (() => {\n",
              "      let quickchartButtonEl =\n",
              "        document.querySelector('#df-c67390d7-06c8-4d35-bd32-547081b4f6ca button');\n",
              "      quickchartButtonEl.style.display =\n",
              "        google.colab.kernel.accessAllowed ? 'block' : 'none';\n",
              "    })();\n",
              "  </script>\n",
              "</div>\n",
              "\n",
              "    </div>\n",
              "  </div>\n"
            ],
            "application/vnd.google.colaboratory.intrinsic+json": {
              "type": "dataframe",
              "variable_name": "df"
            }
          },
          "metadata": {},
          "execution_count": 6
        }
      ]
    },
    {
      "cell_type": "code",
      "source": [
        "# getting text from the data\n",
        "text = []\n",
        "for i in data['PlayerLine']:\n",
        "\ttext.append(i)\n",
        "\n",
        "# lets see how the text is looking\n",
        "text[:5]\n"
      ],
      "metadata": {
        "colab": {
          "base_uri": "https://localhost:8080/"
        },
        "id": "VlE_OHsTu82g",
        "outputId": "3609bd2d-fa3d-4573-8a85-426b22b80d9f"
      },
      "execution_count": 7,
      "outputs": [
        {
          "output_type": "execute_result",
          "data": {
            "text/plain": [
              "['ACT I',\n",
              " 'SCENE I. London. The palace.',\n",
              " 'Enter KING HENRY, LORD JOHN OF LANCASTER, the EARL of WESTMORELAND, SIR WALTER BLUNT, and others',\n",
              " 'So shaken as we are, so wan with care,',\n",
              " 'Find we a time for frighted peace to pant,']"
            ]
          },
          "metadata": {},
          "execution_count": 7
        }
      ]
    },
    {
      "cell_type": "code",
      "source": [
        "import re # import the 're' module for regular expression operations\n",
        "\n",
        "# Text Cleaning\n",
        "def clean_text(text):\n",
        "    # removing special characters like @, #, $, etc\n",
        "    pattern = re.compile('[^a-zA-z0-9\\s]')\n",
        "    text = re.sub(pattern,'',text)\n",
        "\n",
        "    # removing digits\n",
        "    pattern = re.compile('\\d+')\n",
        "    text = re.sub(pattern,'',text)\n",
        "\n",
        "    # converting text to lower case\n",
        "    text = text.lower()\n",
        "    return text\n",
        "\n",
        "texts = []\n",
        "for t in text:\n",
        "    new_text = clean_text(t)\n",
        "    texts.append(new_text)\n",
        "\n",
        "# cleaned text\n",
        "texts[:5]"
      ],
      "metadata": {
        "colab": {
          "base_uri": "https://localhost:8080/"
        },
        "id": "Eff5WfIQwPrB",
        "outputId": "683da891-33e6-4aa0-968a-f8a23216c164"
      },
      "execution_count": 9,
      "outputs": [
        {
          "output_type": "execute_result",
          "data": {
            "text/plain": [
              "['act i',\n",
              " 'scene i london the palace',\n",
              " 'enter king henry lord john of lancaster the earl of westmoreland sir walter blunt and others',\n",
              " 'so shaken as we are so wan with care',\n",
              " 'find we a time for frighted peace to pant']"
            ]
          },
          "metadata": {},
          "execution_count": 9
        }
      ]
    },
    {
      "cell_type": "code",
      "source": [
        "import re # import the 're' module for regular expression operations\n",
        "import numpy as np\n",
        "from tensorflow.keras.preprocessing.text import Tokenizer\n",
        "from tensorflow.keras.preprocessing.sequence import pad_sequences\n",
        "\n",
        "# using tensorflow tokenizer and\n",
        "tokenizer = Tokenizer()\n",
        "tokenizer.fit_on_texts(texts)\n",
        "\n",
        "# saving the tokenizer for the inference phase\n",
        "pickle.dump(tokenizer, open('tokenizer.pkl', 'wb'))\n",
        "# generating text sequences, i.e. encoding the text\n",
        "text_sequences = tokenizer.texts_to_sequences(texts) # Remove np.array() here\n",
        "\n",
        "# padding the sequences BEFORE converting to numpy array\n",
        "Max_Sequence_Len = max([len(x) for x in text_sequences])\n",
        "text_sequences = pad_sequences(text_sequences,\n",
        "                            maxlen = Max_Sequence_Len, padding='pre')\n",
        "\n",
        "# Now convert to numpy array after padding\n",
        "text_sequences = np.array(text_sequences)\n",
        "\n",
        "print('Text -->>',texts[0])\n",
        "print('Embedding -->>',text_sequences[0])\n",
        "\n",
        "print('Maximum Sequence Length -->>',Max_Sequence_Len)\n",
        "print('Text Sequence -->>\\n',text_sequences[0])\n",
        "print('Text Sequence Shape -->>',text_sequences.shape)"
      ],
      "metadata": {
        "colab": {
          "base_uri": "https://localhost:8080/"
        },
        "id": "birB7d7PwPuk",
        "outputId": "b2bbf8ec-c80e-4d80-92d1-43cd00d8419b"
      },
      "execution_count": 11,
      "outputs": [
        {
          "output_type": "stream",
          "name": "stdout",
          "text": [
            "Text -->> act i\n",
            "Embedding -->> [  0   0   0   0   0   0   0   0   0   0   0   0   0   0   0   0   0   0\n",
            "   0   0   0   0   0   0   0   0   0   0   0   0   0   0   0   0   0   0\n",
            "   0   0   0   0   0   0   0   0   0   0   0   0   0   0   0   0 455   4]\n",
            "Maximum Sequence Length -->> 54\n",
            "Text Sequence -->>\n",
            " [  0   0   0   0   0   0   0   0   0   0   0   0   0   0   0   0   0   0\n",
            "   0   0   0   0   0   0   0   0   0   0   0   0   0   0   0   0   0   0\n",
            "   0   0   0   0   0   0   0   0   0   0   0   0   0   0   0   0 455   4]\n",
            "Text Sequence Shape -->> (10000, 54)\n"
          ]
        }
      ]
    },
    {
      "cell_type": "code",
      "source": [
        "# getting X and y from the data\n",
        "X, y = text_sequences[:, :-1], text_sequences[:,-1]\n",
        "print('First Input :',X[0])\n",
        "print('First Target :',y[0])\n",
        "\n",
        "word_index = tokenizer.word_index\n",
        "\n",
        "# using one hot encoding on y\n",
        "total_words = len(word_index) + 1\n",
        "print('Total Number of Words:',total_words)\n",
        "\n",
        "y = to_categorical(y, num_classes=total_words)\n",
        "\n",
        "# printing X and y shapes\n",
        "print('Input Shape :',X.shape)\n",
        "print('Target Shape :',y.shape)\n"
      ],
      "metadata": {
        "colab": {
          "base_uri": "https://localhost:8080/"
        },
        "id": "0iK2m4D8wPwU",
        "outputId": "bb40800c-8537-494f-b68d-cf614f73d7ed"
      },
      "execution_count": 12,
      "outputs": [
        {
          "output_type": "stream",
          "name": "stdout",
          "text": [
            "First Input : [  0   0   0   0   0   0   0   0   0   0   0   0   0   0   0   0   0   0\n",
            "   0   0   0   0   0   0   0   0   0   0   0   0   0   0   0   0   0   0\n",
            "   0   0   0   0   0   0   0   0   0   0   0   0   0   0   0   0 455]\n",
            "First Target : 4\n",
            "Total Number of Words: 7865\n",
            "Input Shape : (10000, 53)\n",
            "Target Shape : (10000, 7865)\n"
          ]
        }
      ]
    },
    {
      "cell_type": "code",
      "source": [
        "model = Sequential(name=\"LSTM_Model\")\n",
        "\n",
        "# adding embedding layer\n",
        "model.add(Embedding(total_words,\n",
        "\t\t\t\t\tMax_Sequence_Len-1,\n",
        "\t\t\t\t\tinput_length=Max_Sequence_Len-1))\n",
        "\n",
        "# adding a LSTM layer\n",
        "model.add(LSTM(512, return_sequences=False))\n",
        "model.add(Dropout(0.5))\n",
        "\n",
        "#adding the final output activation with activation function of softmax\n",
        "model.add(Dense(total_words, activation='softmax'))\n",
        "\n",
        "# printing model summary\n",
        "print(model.summary())\n"
      ],
      "metadata": {
        "colab": {
          "base_uri": "https://localhost:8080/"
        },
        "id": "Gnr4FUNewP0t",
        "outputId": "7ad3f1c2-6f00-4b50-f6c3-18aa19698923"
      },
      "execution_count": 13,
      "outputs": [
        {
          "output_type": "stream",
          "name": "stdout",
          "text": [
            "Model: \"LSTM_Model\"\n",
            "_________________________________________________________________\n",
            " Layer (type)                Output Shape              Param #   \n",
            "=================================================================\n",
            " embedding (Embedding)       (None, 53, 53)            416845    \n",
            "                                                                 \n",
            " lstm (LSTM)                 (None, 512)               1159168   \n",
            "                                                                 \n",
            " dropout (Dropout)           (None, 512)               0         \n",
            "                                                                 \n",
            " dense (Dense)               (None, 7865)              4034745   \n",
            "                                                                 \n",
            "=================================================================\n",
            "Total params: 5610758 (21.40 MB)\n",
            "Trainable params: 5610758 (21.40 MB)\n",
            "Non-trainable params: 0 (0.00 Byte)\n",
            "_________________________________________________________________\n",
            "None\n"
          ]
        }
      ]
    },
    {
      "cell_type": "code",
      "source": [
        "# Compiling the model\n",
        "model.compile(\n",
        "\tloss=\"categorical_crossentropy\",\n",
        "\toptimizer='adam',\n",
        "\tmetrics=['accuracy']\n",
        ")\n",
        "\n",
        "# Training the LSTM model\n",
        "history = model.fit(X, y,\n",
        "\t\t\t\t\tepochs=50,\n",
        "\t\t\t\t\tverbose=1)\n"
      ],
      "metadata": {
        "colab": {
          "base_uri": "https://localhost:8080/"
        },
        "id": "0O5TPx9pwP2o",
        "outputId": "bdb910b0-b88a-43ee-dbbb-2af6f88f9fe4"
      },
      "execution_count": 14,
      "outputs": [
        {
          "output_type": "stream",
          "name": "stdout",
          "text": [
            "Epoch 1/50\n",
            "313/313 [==============================] - 17s 41ms/step - loss: 7.9185 - accuracy: 0.0111\n",
            "Epoch 2/50\n",
            "313/313 [==============================] - 5s 17ms/step - loss: 7.3621 - accuracy: 0.0176\n",
            "Epoch 3/50\n",
            "313/313 [==============================] - 5s 18ms/step - loss: 7.1087 - accuracy: 0.0239\n",
            "Epoch 4/50\n",
            "313/313 [==============================] - 5s 15ms/step - loss: 6.8595 - accuracy: 0.0288\n",
            "Epoch 5/50\n",
            "313/313 [==============================] - 5s 16ms/step - loss: 6.5970 - accuracy: 0.0330\n",
            "Epoch 6/50\n",
            "313/313 [==============================] - 5s 15ms/step - loss: 6.2931 - accuracy: 0.0372\n",
            "Epoch 7/50\n",
            "313/313 [==============================] - 5s 15ms/step - loss: 5.9240 - accuracy: 0.0483\n",
            "Epoch 8/50\n",
            "313/313 [==============================] - 5s 14ms/step - loss: 5.5043 - accuracy: 0.0628\n",
            "Epoch 9/50\n",
            "313/313 [==============================] - 5s 15ms/step - loss: 5.0229 - accuracy: 0.0903\n",
            "Epoch 10/50\n",
            "313/313 [==============================] - 5s 15ms/step - loss: 4.4946 - accuracy: 0.1358\n",
            "Epoch 11/50\n",
            "313/313 [==============================] - 5s 14ms/step - loss: 3.9730 - accuracy: 0.1872\n",
            "Epoch 12/50\n",
            "313/313 [==============================] - 5s 15ms/step - loss: 3.4239 - accuracy: 0.2732\n",
            "Epoch 13/50\n",
            "313/313 [==============================] - 5s 15ms/step - loss: 2.9101 - accuracy: 0.3715\n",
            "Epoch 14/50\n",
            "313/313 [==============================] - 4s 14ms/step - loss: 2.4336 - accuracy: 0.4718\n",
            "Epoch 15/50\n",
            "313/313 [==============================] - 5s 15ms/step - loss: 2.0409 - accuracy: 0.5578\n",
            "Epoch 16/50\n",
            "313/313 [==============================] - 5s 14ms/step - loss: 1.7091 - accuracy: 0.6371\n",
            "Epoch 17/50\n",
            "313/313 [==============================] - 5s 15ms/step - loss: 1.4132 - accuracy: 0.7053\n",
            "Epoch 18/50\n",
            "313/313 [==============================] - 5s 15ms/step - loss: 1.1801 - accuracy: 0.7496\n",
            "Epoch 19/50\n",
            "313/313 [==============================] - 4s 14ms/step - loss: 1.0003 - accuracy: 0.8003\n",
            "Epoch 20/50\n",
            "313/313 [==============================] - 4s 14ms/step - loss: 0.8564 - accuracy: 0.8289\n",
            "Epoch 21/50\n",
            "313/313 [==============================] - 5s 15ms/step - loss: 0.7465 - accuracy: 0.8538\n",
            "Epoch 22/50\n",
            "313/313 [==============================] - 5s 14ms/step - loss: 0.6378 - accuracy: 0.8737\n",
            "Epoch 23/50\n",
            "313/313 [==============================] - 5s 14ms/step - loss: 0.5797 - accuracy: 0.8860\n",
            "Epoch 24/50\n",
            "313/313 [==============================] - 5s 15ms/step - loss: 0.5142 - accuracy: 0.9009\n",
            "Epoch 25/50\n",
            "313/313 [==============================] - 4s 14ms/step - loss: 0.4715 - accuracy: 0.9041\n",
            "Epoch 26/50\n",
            "313/313 [==============================] - 5s 15ms/step - loss: 0.4260 - accuracy: 0.9162\n",
            "Epoch 27/50\n",
            "313/313 [==============================] - 5s 15ms/step - loss: 0.3954 - accuracy: 0.9215\n",
            "Epoch 28/50\n",
            "313/313 [==============================] - 4s 14ms/step - loss: 0.3683 - accuracy: 0.9256\n",
            "Epoch 29/50\n",
            "313/313 [==============================] - 5s 16ms/step - loss: 0.3422 - accuracy: 0.9299\n",
            "Epoch 30/50\n",
            "313/313 [==============================] - 4s 14ms/step - loss: 0.3322 - accuracy: 0.9329\n",
            "Epoch 31/50\n",
            "313/313 [==============================] - 4s 14ms/step - loss: 0.3184 - accuracy: 0.9344\n",
            "Epoch 32/50\n",
            "313/313 [==============================] - 5s 15ms/step - loss: 0.3072 - accuracy: 0.9353\n",
            "Epoch 33/50\n",
            "313/313 [==============================] - 5s 15ms/step - loss: 0.2995 - accuracy: 0.9368\n",
            "Epoch 34/50\n",
            "313/313 [==============================] - 4s 14ms/step - loss: 0.2757 - accuracy: 0.9402\n",
            "Epoch 35/50\n",
            "313/313 [==============================] - 5s 15ms/step - loss: 0.2642 - accuracy: 0.9440\n",
            "Epoch 36/50\n",
            "313/313 [==============================] - 4s 14ms/step - loss: 0.2515 - accuracy: 0.9440\n",
            "Epoch 37/50\n",
            "313/313 [==============================] - 5s 15ms/step - loss: 0.2491 - accuracy: 0.9468\n",
            "Epoch 38/50\n",
            "313/313 [==============================] - 5s 15ms/step - loss: 0.2363 - accuracy: 0.9479\n",
            "Epoch 39/50\n",
            "313/313 [==============================] - 5s 15ms/step - loss: 0.2486 - accuracy: 0.9437\n",
            "Epoch 40/50\n",
            "313/313 [==============================] - 5s 14ms/step - loss: 0.2360 - accuracy: 0.9476\n",
            "Epoch 41/50\n",
            "313/313 [==============================] - 5s 15ms/step - loss: 0.2313 - accuracy: 0.9487\n",
            "Epoch 42/50\n",
            "313/313 [==============================] - 4s 14ms/step - loss: 0.2284 - accuracy: 0.9467\n",
            "Epoch 43/50\n",
            "313/313 [==============================] - 5s 15ms/step - loss: 0.2250 - accuracy: 0.9499\n",
            "Epoch 44/50\n",
            "313/313 [==============================] - 4s 14ms/step - loss: 0.2333 - accuracy: 0.9491\n",
            "Epoch 45/50\n",
            "313/313 [==============================] - 5s 15ms/step - loss: 0.2165 - accuracy: 0.9509\n",
            "Epoch 46/50\n",
            "313/313 [==============================] - 5s 15ms/step - loss: 0.2029 - accuracy: 0.9536\n",
            "Epoch 47/50\n",
            "313/313 [==============================] - 4s 14ms/step - loss: 0.1986 - accuracy: 0.9562\n",
            "Epoch 48/50\n",
            "313/313 [==============================] - 4s 14ms/step - loss: 0.1996 - accuracy: 0.9539\n",
            "Epoch 49/50\n",
            "313/313 [==============================] - 5s 15ms/step - loss: 0.2024 - accuracy: 0.9514\n",
            "Epoch 50/50\n",
            "313/313 [==============================] - 4s 14ms/step - loss: 0.1869 - accuracy: 0.9567\n"
          ]
        }
      ]
    },
    {
      "cell_type": "code",
      "source": [
        "def autoCompletations(text, model):\n",
        "    # Tokenization and Text vectorization\n",
        "    text_sequences = np.array(tokenizer.texts_to_sequences([text])) # Pass the input text as a list\n",
        "    # Pre-padding\n",
        "    testing = pad_sequences(text_sequences, maxlen = Max_Sequence_Len-1, padding='pre')\n",
        "    # Prediction\n",
        "    y_pred_test = np.argmax(model.predict(testing,verbose=0))\n",
        "\n",
        "    predicted_word = ''\n",
        "    for word, index in tokenizer.word_index.items():\n",
        "        if index == y_pred_test:\n",
        "            predicted_word = word\n",
        "            break\n",
        "    text += \" \" + predicted_word + '.'\n",
        "    return text"
      ],
      "metadata": {
        "id": "-iVpOBBbwP52"
      },
      "execution_count": 17,
      "outputs": []
    },
    {
      "cell_type": "code",
      "source": [
        "def autoCompletations(text, model):\n",
        "    # Tokenization and Text vectorization\n",
        "    text_sequences = np.array(tokenizer.texts_to_sequences([text])) # Pass the input text as a list\n",
        "    # Pre-padding\n",
        "    testing = pad_sequences(text_sequences, maxlen = Max_Sequence_Len-1, padding='pre')\n",
        "    # Prediction\n",
        "    y_pred_test = np.argmax(model.predict(testing,verbose=0))\n",
        "\n",
        "    predicted_word = ''\n",
        "    for word, index in tokenizer.word_index.items():\n",
        "        if index == y_pred_test:\n",
        "            predicted_word = word\n",
        "            break\n",
        "    text += \" \" + predicted_word + '.'\n",
        "    return text\n",
        "\n",
        "text_to_complete = \"king is\"\n",
        "complete_sentence = autoCompletations( text_to_complete, model)\n",
        "complete_sentence"
      ],
      "metadata": {
        "colab": {
          "base_uri": "https://localhost:8080/",
          "height": 36
        },
        "id": "gy576MSPwP_t",
        "outputId": "eb586148-ee0c-477a-adf8-f249d0be1504"
      },
      "execution_count": 33,
      "outputs": [
        {
          "output_type": "execute_result",
          "data": {
            "text/plain": [
              "'king is night.'"
            ],
            "application/vnd.google.colaboratory.intrinsic+json": {
              "type": "string"
            }
          },
          "metadata": {},
          "execution_count": 33
        }
      ]
    },
    {
      "cell_type": "code",
      "source": [],
      "metadata": {
        "id": "2GL4S9oTwQBT"
      },
      "execution_count": 7,
      "outputs": []
    },
    {
      "cell_type": "code",
      "source": [],
      "metadata": {
        "id": "e3IfhcJXwQCy"
      },
      "execution_count": 7,
      "outputs": []
    },
    {
      "cell_type": "code",
      "source": [],
      "metadata": {
        "id": "VWrKwKWxwQEO"
      },
      "execution_count": 7,
      "outputs": []
    },
    {
      "cell_type": "code",
      "source": [],
      "metadata": {
        "id": "Mdfv3zotwQH-"
      },
      "execution_count": 7,
      "outputs": []
    },
    {
      "cell_type": "code",
      "source": [],
      "metadata": {
        "id": "B1n6p_zlu856"
      },
      "execution_count": 7,
      "outputs": []
    },
    {
      "cell_type": "code",
      "source": [],
      "metadata": {
        "id": "cjOx91z5u87h"
      },
      "execution_count": 7,
      "outputs": []
    },
    {
      "cell_type": "code",
      "source": [],
      "metadata": {
        "id": "lrJu14ztu89C"
      },
      "execution_count": 7,
      "outputs": []
    },
    {
      "cell_type": "code",
      "source": [],
      "metadata": {
        "id": "SIvcvol5u8_B"
      },
      "execution_count": 7,
      "outputs": []
    }
  ]
}